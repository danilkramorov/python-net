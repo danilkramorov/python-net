{
 "cells": [
  {
   "cell_type": "code",
   "execution_count": null,
   "metadata": {},
   "outputs": [],
   "source": [
    "# Имеется матрица покупок в интернет-магазине\n",
    "# user_stats\n",
    "# На сайт заходит очередной посетитель, о покупках которого известно следующее: \n",
    "# next_user_stats = np.array([0, 1, 2, 0, 0, 0])\n",
    "# Найдите самого похожего пользователя.\n",
    "# Т. е. посчитайте косинусное расстояние между этим пользователем и всеми пользователями из массива user_stats\n",
    "\n",
    "import numpy as np\n",
    "\n",
    "def cosine( a, b ):\n",
    "    \"\"\"\n",
    "    Подсчет косинуса угла между векторами a, b по их координатам\n",
    "    \"\"\"\n",
    "    \n",
    "    # длины векторов\n",
    "    aLength = np.linalg.norm( a )\n",
    "    bLength = np.linalg.norm( b )\n",
    "    \n",
    "    return np.dot( a, b ) / ( aLength * bLength )\n",
    "\n",
    "def best_coincidence(stat_array,user_stat):\n",
    "    list_of_cos = list(map(lambda x: cosine( x, user_stat ), stat_array))\n",
    "    max_cos = max(list_of_cos)\n",
    "    index_of_max_cos = list_of_cos.index(max_cos)\n",
    "    return {\n",
    "        'best_user_data' : stat_array[index_of_max_cos],\n",
    "        'best_user_index':index_of_max_cos,\n",
    "        'cos_value': max_cos\n",
    "    }\n",
    "    \n",
    "\n",
    "users_stats = np.array(\n",
    "    [\n",
    "        [2, 1, 0, 0, 0, 0],\n",
    "        [1, 1, 2, 1, 0, 0],\n",
    "        [2, 0, 1, 0, 0, 0],\n",
    "        [1, 1, 2, 1, 0, 1],\n",
    "        [0, 0, 1, 2, 0, 0],\n",
    "        [0, 0, 0, 0, 0, 5],\n",
    "        [1, 0, 0, 0, 0, 0],\n",
    "        [0, 1, 1, 0, 0, 0],\n",
    "        [0, 0, 0, 1, 1, 3],\n",
    "        [1, 0, 0, 2, 1, 4]\n",
    "    ], \n",
    "    np.int32\n",
    ")\n",
    "\n",
    "next_user_stats = np.array([0, 1, 2, 0, 0, 0])\n",
    "\n",
    "best_coincidence(users_stats,next_user_stats)"
   ]
  },
  {
   "cell_type": "code",
   "execution_count": null,
   "metadata": {},
   "outputs": [],
   "source": [
    "# Создайте numpy array с элементами от числа N до 0\n",
    "# (например, для N = 10 это будет array([9, 8, 7, 6, 5, 4, 3, 2, 1, 0]))\n",
    "\n",
    "def create_reversed_numpy_array(n):\n",
    "    return np.flip(np.arange(n))\n",
    "\n",
    "create_reversed_numpy_array(10)"
   ]
  },
  {
   "cell_type": "code",
   "execution_count": null,
   "metadata": {},
   "outputs": [],
   "source": [
    "# Создайте диагональную матрицу с элементами от N до 0. Посчитайте сумму ее значений на диагонали.\n",
    "\n",
    "def sum_elements_of_diagonal_matrix(n):\n",
    "    return np.trace(np.diag(create_reversed_numpy_array(n), k=0))\n",
    "\n",
    "sum_elements_of_diagonal_matrix(5)"
   ]
  },
  {
   "cell_type": "code",
   "execution_count": null,
   "metadata": {},
   "outputs": [],
   "source": [
    "# Решите систему уравнений:\n",
    "# 4x + 2y + z = 4\n",
    "# x + 3y = 12\n",
    "# 5y + 4z = -3\n",
    "\n",
    "a = np.array([[1,2,1],[1,3,0],[0,5,4]])\n",
    "b = np.array([4,12,-3])\n",
    "result = np.linalg.solve(a,b)\n",
    "print(result)\n",
    "check = np.allclose(np.dot(a,result),b)\n",
    "print(check)"
   ]
  },
  {
   "cell_type": "code",
   "execution_count": null,
   "metadata": {},
   "outputs": [],
   "source": []
  }
 ],
 "metadata": {
  "kernelspec": {
   "display_name": "Python 3",
   "language": "python",
   "name": "python3"
  },
  "language_info": {
   "codemirror_mode": {
    "name": "ipython",
    "version": 3
   },
   "file_extension": ".py",
   "mimetype": "text/x-python",
   "name": "python",
   "nbconvert_exporter": "python",
   "pygments_lexer": "ipython3",
   "version": "3.7.4"
  }
 },
 "nbformat": 4,
 "nbformat_minor": 2
}
