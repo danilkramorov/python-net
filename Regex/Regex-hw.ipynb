{
 "cells": [
  {
   "cell_type": "markdown",
   "metadata": {},
   "source": [
    "# Домашнее задание к лекции \"Регулярные выражения\"\n",
    "Для зачета необходимо выполнить 4 задания.  \n",
    "Для зачета с отличием – все."
   ]
  },
  {
   "cell_type": "markdown",
   "metadata": {},
   "source": [
    "## Задание 1"
   ]
  },
  {
   "cell_type": "markdown",
   "metadata": {},
   "source": [
    "Напишите функцию, которая принимает на вход строку и проверяет является ли она валидным транспортным номером. Если да, то функция должна возвращать отдельно номер и регион."
   ]
  },
  {
   "cell_type": "code",
   "execution_count": null,
   "metadata": {},
   "outputs": [],
   "source": [
    "import re\n",
    "\n",
    "def validate_vehicle_number():\n",
    "    input_str = input('Введите транспортный номер:')\n",
    "    result = re.findall('(^[АВЕКМНОРСТУХ]{1}[0-9]{3}[АВЕКМНОРСТУХ]{2})([0-9]{2,3})',input_str)\n",
    "    if(result):\n",
    "        return 'Номер:' + result[0][0] + ', Серия: ' + result[0][1]\n",
    "    else:\n",
    "        return 'Не является валидным номером'\n",
    "\n",
    "print(validate_vehicle_number())"
   ]
  },
  {
   "cell_type": "markdown",
   "metadata": {},
   "source": [
    "## Задание 2"
   ]
  },
  {
   "cell_type": "markdown",
   "metadata": {},
   "source": [
    "Напишите функцию, которая проверяет e-mail адрес на валидность по стандарту RFC822: http://www.w3.org/Protocols/rfc822/. Для этого постарайтесь написать (в крайнем случае найти) самый полный шаблон для проверки e-mail адресов через регулярное выражение. Разберитесь и напишите примеры, какие ваш шаблон может не охватить."
   ]
  },
  {
   "cell_type": "code",
   "execution_count": null,
   "metadata": {},
   "outputs": [],
   "source": [
    "def validate_email():\n",
    "    input_str = input('Введите email для проверки:')\n",
    "    if(re.match('^([a-zA-Z0-9\\.\\-_])+\\@(([a-zA-Z0-9\\-])+\\.)+([a-zA-Z0-9]{2,63})+$',input_str)):\n",
    "        return input_str + ' - валидный адрес'\n",
    "    else:\n",
    "        return input_str + ' - невалидный адрес'\n",
    "    \n",
    "print(validate_email())"
   ]
  },
  {
   "cell_type": "markdown",
   "metadata": {},
   "source": [
    "## Задание 3\n",
    "Напишите функцию, которая будет удалять все последовательные повторы слов из заданной строки."
   ]
  },
  {
   "cell_type": "code",
   "execution_count": null,
   "metadata": {},
   "outputs": [],
   "source": [
    "def remove_consistent_duplicates():\n",
    "    input_str = input('Введите строку (разделитель между словами - запятая или пробел): ')\n",
    "    return re.sub(r'(\\w+)([,\\s]{1,2}\\1)+', r'\\1', input_str)\n",
    "    \n",
    "print(remove_consistent_duplicates())"
   ]
  },
  {
   "cell_type": "markdown",
   "metadata": {},
   "source": [
    "## Задание 4\n",
    "Напишите функцию, которая будет проверять номер сотового телефона на валидность, если он валиден, то переводить его в формат:   \n",
    "+7(xxx)-xxx-xx-xx  \n",
    "Постарайтесь предусмотреть как можно больше адекватных форматов изначального ввода номера.\n",
    "Примеры правильных и неправильных форматов:\n",
    "- +7 955 555-55-55;\n",
    "- 955555555;\n",
    "- 8(955)555-55-55;\n",
    "- +7 955 555 55 55;\n",
    "- 7(955) 555-55-55;\n",
    "- +7 955+555+55+55."
   ]
  },
  {
   "cell_type": "code",
   "execution_count": null,
   "metadata": {},
   "outputs": [],
   "source": [
    "phones_list = [\n",
    "    '+7 912 345-67-89',\n",
    "    '+7 912 345-67-89',\n",
    "    '+7 91 345-67-89',\n",
    "    '+7 912 34-67-89',\n",
    "    '+7-912-345-67-89',\n",
    "    '+7-912-3456789',\n",
    "    '+7(912)345-67-89',\n",
    "    '+7 (912) 345 67 89',\n",
    "    '921345678',\n",
    "    '+89123456789',\n",
    "    '8(912)345-67-89',\n",
    "    '+7 912 345 67 89',\n",
    "    '7(912) 345-67-89',\n",
    "    '7 (912) 345-67-89',\n",
    "    '+7 912+345+67+89'\n",
    "]\n",
    "\n",
    "def validate_phone_number(str_):\n",
    "    regex = '(\\+7|8|7)[-\\s]?[(]?(9[0-9]{2})[)]?[-\\s]?([0-9]{3})[-\\s]?([0-9]{2})[-\\s]?([0-9]{2})'\n",
    "    if(re.match(regex,str_)):\n",
    "        return 'Оригинальный номер: ' + str_ + '\\nФорматированный номер: ' + re.sub(regex,r'+7(\\2)\\3-\\4-\\5',str_) + '\\n'\n",
    "    else:\n",
    "        return str_ + ' не является валидным номером\\n'\n",
    "    \n",
    "for phone in phones_list:\n",
    "    print(validate_phone_number(phone))"
   ]
  },
  {
   "cell_type": "code",
   "execution_count": null,
   "metadata": {},
   "outputs": [],
   "source": []
  },
  {
   "cell_type": "code",
   "execution_count": null,
   "metadata": {},
   "outputs": [],
   "source": []
  }
 ],
 "metadata": {
  "kernelspec": {
   "display_name": "Python 3",
   "language": "python",
   "name": "python3"
  },
  "language_info": {
   "codemirror_mode": {
    "name": "ipython",
    "version": 3
   },
   "file_extension": ".py",
   "mimetype": "text/x-python",
   "name": "python",
   "nbconvert_exporter": "python",
   "pygments_lexer": "ipython3",
   "version": "3.7.4"
  }
 },
 "nbformat": 4,
 "nbformat_minor": 2
}
