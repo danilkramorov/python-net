{
 "cells": [
  {
   "cell_type": "code",
   "execution_count": null,
   "metadata": {},
   "outputs": [],
   "source": [
    "from datetime import datetime\n",
    "from datetime import timedelta"
   ]
  },
  {
   "cell_type": "code",
   "execution_count": null,
   "metadata": {},
   "outputs": [],
   "source": [
    "# Напишите функцию date_range, которая возвращает список дней между датами start_date и end_date.\n",
    "# Даты должны вводиться в формате YYYY-MM-DD.\n",
    "\n",
    "def date_range(start_date,end_date):\n",
    "    date_list = []\n",
    "    current_date = start_date\n",
    "    while current_date <= end_date:\n",
    "        date_list.append(current_date)\n",
    "        current_date = (datetime.strptime(current_date,'%Y-%m-%d') + timedelta(days = 1)).strftime('%Y-%m-%d')\n",
    "    return date_list\n",
    "        \n",
    "print(date_range('2017-12-24','2018-01-09'))\n",
    "    "
   ]
  },
  {
   "cell_type": "code",
   "execution_count": null,
   "metadata": {},
   "outputs": [],
   "source": [
    "# Дополните функцию из первого задания проверкой на корректность дат.\n",
    "# В случае неверного формата или если start_date > end_date должен возвращаться пустой список.\n",
    "\n",
    "def date_range_extended(start_date,end_date):\n",
    "    date_list = []\n",
    "    \n",
    "    try:\n",
    "        datetime.strptime(start_date,'%Y-%m-%d') and datetime.strptime(end_date,'%Y-%m-%d') and (start_date > end_date)\n",
    "    except ValueError:\n",
    "        return date_list\n",
    "    \n",
    "    current_date = start_date\n",
    "    while current_date <= end_date:\n",
    "        date_list.append(current_date)\n",
    "        current_date = (datetime.strptime(current_date,'%Y-%m-%d') + timedelta(days = 1)).strftime('%Y-%m-%d')\n",
    "    return date_list\n",
    "        \n",
    "date_range_extended('2018-12-24','2018-01-09')"
   ]
  },
  {
   "cell_type": "code",
   "execution_count": null,
   "metadata": {},
   "outputs": [],
   "source": [
    "# Дан поток дат в формате YYYY-MM-DD, в которых встречаются некорректные значения:\n",
    "# stream = [‘2018-04-02’, ‘2018-02-29’, ‘2018-19-02’]\n",
    "# Напишите функцию, которая проверяет эти даты на корректность.\n",
    "# Т. е. для каждой даты возвращает True (дата корректна) или False (некорректная дата).\n",
    "\n",
    "stream = ['2018-04-02', '2018-02-29', '2018-19-02']\n",
    "def validate_date(date):\n",
    "    try:\n",
    "        datetime.strptime(date,'%Y-%m-%d')\n",
    "        return True\n",
    "    except ValueError:\n",
    "        return False\n",
    "    \n",
    "def validate_stream_of_dates(stream):\n",
    "    return dict(zip(stream, list(map(validate_date,stream))))\n",
    "            \n",
    "validate_stream_of_dates(stream)"
   ]
  },
  {
   "cell_type": "code",
   "execution_count": null,
   "metadata": {},
   "outputs": [],
   "source": [
    "# Ваш коллега прислал код функции:\n",
    "\n",
    "DEFAULT_USER_COUNT = 3\n",
    "\n",
    "def delete_and_return_last_user(region, default_list=['A100', 'A101', 'A102']):\n",
    "    element_to_delete = default_list[-1]\n",
    "    default_list.remove(element_to_delete)\n",
    "\n",
    "    return default_list[DEFAULT_USER_COUNT-2]\n",
    "# При однократном вызове этой функции все работает корректно:\n",
    "# delete_and_return_last_user(1)\n",
    "# ‘A101’\n",
    "\n",
    "# Однако, при повторном вызове получается ошибка IndexError: list index out of range.\n",
    "# Задание:\n",
    "# Что значит ошибка list index out of range?\n",
    "# Почему при первом запуске функция работает корректно, а при втором - нет?\n",
    "# \n",
    "\n",
    "# Ошибка list index out of range значит, что в списке не существует элемента с запрашиваемым индексом\n",
    "# Возникает она, потому что после первого запуска дефолтный массив меняется с ['A100', 'A101', 'A102'] на ['A100', 'A101'], \n",
    "# во время второго запуска после удаления последнего элемента в нем остается один элемент с индексом 0, а функция пытается вернуть \n",
    "# элемент с индексом 1"
   ]
  }
 ],
 "metadata": {
  "kernelspec": {
   "display_name": "Python 3",
   "language": "python",
   "name": "python3"
  },
  "language_info": {
   "codemirror_mode": {
    "name": "ipython",
    "version": 3
   },
   "file_extension": ".py",
   "mimetype": "text/x-python",
   "name": "python",
   "nbconvert_exporter": "python",
   "pygments_lexer": "ipython3",
   "version": "3.7.4"
  }
 },
 "nbformat": 4,
 "nbformat_minor": 2
}
