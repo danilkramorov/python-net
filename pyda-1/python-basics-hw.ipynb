{
 "cells": [
  {
   "cell_type": "markdown",
   "metadata": {},
   "source": [
    "**Задание 1**. Даны 2 строки: *long_phrase* и *short_phrase*. \n",
    "Напишите код, который проверяет действительно ли длинная фраза *long_phrase* длиннее короткой *short_phrase*. И выводит *True* или *False* в зависимости от результата сравнения."
   ]
  },
  {
   "cell_type": "code",
   "execution_count": 3,
   "metadata": {},
   "outputs": [],
   "source": [
    "long_phrase = 'Насколько проще было бы писать программы, если бы не заказчики'\n",
    "short_phrase = '640Кб должно хватить для любых задач. Билл Гейтс (по легенде)'"
   ]
  },
  {
   "cell_type": "code",
   "execution_count": 31,
   "metadata": {},
   "outputs": [
    {
     "name": "stdout",
     "output_type": "stream",
     "text": [
      "True\n"
     ]
    }
   ],
   "source": [
    "long_phrase = 'Насколько проще было бы писать программы, если бы не заказчики'\n",
    "short_phrase = '640Кб должно хватить для любых задач. Билл Гейтс (по легенде)'\n",
    "\n",
    "print(len(long_phrase) > len(short_phrase))"
   ]
  },
  {
   "cell_type": "markdown",
   "metadata": {},
   "source": [
    "**Задание 2**. Дано значение объема файла в байтах. Напишите перевод этого значения в мегабайты в формате: \"*Объем файла равен 213.68Mb*\""
   ]
  },
  {
   "cell_type": "code",
   "execution_count": 13,
   "metadata": {},
   "outputs": [
    {
     "name": "stdout",
     "output_type": "stream",
     "text": [
      "Введите значение в байтах: 1024\n",
      "Объем файла равен 0.0009765625Мб\n"
     ]
    }
   ],
   "source": [
    "bytes_input = input('Введите значение в байтах: ')\n",
    "print('Объем файла равен ',int(bytes_input)/1024/1024,'Мб',sep='')"
   ]
  },
  {
   "cell_type": "markdown",
   "metadata": {},
   "source": [
    "**Задание 3**. Разработать приложение для определения знака зодиака по дате рождения. Пример:\n",
    "\n",
    "Введите месяц: март\n",
    "\n",
    "Введите число: 6\n",
    "\n",
    "Вывод:\n",
    "Рыбы"
   ]
  },
  {
   "cell_type": "code",
   "execution_count": 48,
   "metadata": {},
   "outputs": [
    {
     "name": "stdout",
     "output_type": "stream",
     "text": [
      "Введите номер месяца: 2\n",
      "Введите число: 6\n",
      "Знак Зодиака: Водолей\n"
     ]
    }
   ],
   "source": [
    "month_input = input('Введите номер месяца: ')\n",
    "if(month_input.isdigit()):\n",
    "    month_input = int(month_input)\n",
    "    if(1 <= month_input <= 12):\n",
    "        day_input = input('Введите число: ')\n",
    "        if(day_input.isdigit()):\n",
    "            day_input = int(day_input)\n",
    "            if(day_input > 0):\n",
    "                if (month_input == 3 and 21 <= day_input <= 31) or (month_input == 4 and day_input <= 20):\n",
    "                    zodiac_sign = 'Овен'\n",
    "                elif (month_input == 4 and 21 <= day_input <= 30) or (month_input == 5 and day_input <= 20):\n",
    "                    zodiac_sign = 'Телец'\n",
    "                elif (month_input == 5 and 21 <= day_input <= 31) or (month_input == 6 and day_input <= 21):\n",
    "                    zodiac_sign = 'Близнецы'\n",
    "                elif (month_input == 6 and 22 <= day_input <= 30) or (month_input == 7 and day_input <= 22):\n",
    "                    zodiac_sign = 'Рак'\n",
    "                elif (month_input == 7 and 23 <= day_input <= 31) or (month_input == 8 and day_input <= 23):\n",
    "                    zodiac_sign = 'Лев'\n",
    "                elif (month_input == 8 and 24 <= day_input <= 31) or (month_input == 9 and day_input <= 23):\n",
    "                    zodiac_sign = 'Дева'\n",
    "                elif (month_input == 9 and 24 <= day_input <= 30) or (month_input == 10 and day_input <= 23):\n",
    "                    zodiac_sign = 'Весы'\n",
    "                elif (month_input == 10 and 24 <= day_input <= 31) or (month_input == 11 and day_input <= 22):\n",
    "                    zodiac_sign = 'Скорпион'\n",
    "                elif (month_input == 11 and 23 <= day_input <= 30) or (month_input == 12 and day_input <= 21):\n",
    "                    zodiac_sign = 'Стрелец'\n",
    "                elif (month_input == 12 and 22 <= day_input <= 31) or (month_input == 1 and day_input <= 20):\n",
    "                    zodiac_sign = 'Козерог'\n",
    "                elif (month_input == 1 and 21 <= day_input <= 31) or (month_input == 2 and day_input <= 20):\n",
    "                    zodiac_sign = 'Водолей'\n",
    "                elif (month_input == 2 and 21 <= day_input <= 28) or (month_input == 3 and day_input <= 20):\n",
    "                    zodiac_sign = 'Рыбы'\n",
    "                elif (month_input == 2 and day_input == 29):\n",
    "                    is_leap_year = input('Год високосный? (да/нет) ')\n",
    "                    if is_leap_year == 'да':\n",
    "                        zodiac_sign = 'Рыбы'\n",
    "                    else:\n",
    "                        zodiac_sign = 'не определен, указано некорректное значение даты'\n",
    "            else:\n",
    "                zodiac_sign = 'не определен, указано некорректное значение даты'\n",
    "        else:\n",
    "            zodiac_sign = 'не определен, введенное значение даты должно быть целым числом'\n",
    "    else:\n",
    "        zodiac_sign = 'не определен, указано некорректное значение месяца'\n",
    "else:\n",
    "    zodiac_sign = 'не определен, введенный номер месяца должен быть целым числом'\n",
    "\n",
    "print('Знак Зодиака:', zodiac_sign)"
   ]
  },
  {
   "cell_type": "markdown",
   "metadata": {},
   "source": [
    "**Задание 4**. Нужно разработать приложение для финансового планирования.\n",
    "Приложение учитывает сколько уходит на ипотеку, \"на жизнь\" и сколько нужно отложить на пенсию.\n",
    "Пользователь вводит:\n",
    "- заработанную плату в месяц.\n",
    "- сколько процентов от ЗП уходит на ипотеку.\n",
    "- сколько процентов от ЗП уходит \"на жизнь\".\n",
    "- сколько раз приходит премия в год.\n",
    "\n",
    "Остальная часть заработанной платы откладывается на пенсию.\n",
    "\n",
    "Также пользователю приходит премия в размере зарплаты, от которой половина уходит на отпуск, а вторая половина откладывается.\n",
    "\n",
    "Программа должна учитывать сколько премий было в год.\n",
    "\n",
    "Нужно вывести сколько денег тратит пользователь на ипотеку и сколько он накопит за год.\n",
    "\n",
    "Пример:\n",
    "\n",
    "Введите заработанную плату в месяц: 100000\n",
    "\n",
    "Введите сколько процентов уходит на ипотеку: 30\n",
    "\n",
    "Введите сколько процентов уходит на жизнь: 50\n",
    "\n",
    "Введите количество премий за год: 2\n",
    "\n",
    "Вывод:\n",
    "На ипотеку было потрачено: 360000 рублей\n",
    "Было накоплено: 340000 рублей"
   ]
  },
  {
   "cell_type": "code",
   "execution_count": 82,
   "metadata": {},
   "outputs": [
    {
     "name": "stdout",
     "output_type": "stream",
     "text": [
      "Введите размер зарплаты в месяц: 120000\n",
      "Введите, сколько процентов от зарплаты уходит на ипотеку: 50\n",
      "Введите, сколько процентов от зарплаты уходит на жизнь: 50\n",
      "Введите количество премий за год: 2\n",
      "На ипотеку было потрачено: 720000.0 руб. Было накоплено: 120000.0 руб\n"
     ]
    }
   ],
   "source": [
    "salary = input('Введите размер зарплаты в месяц: ')\n",
    "if(salary.isdigit() and int(salary) > 0):\n",
    "    salary = int(salary)\n",
    "    mortgage_percent = input('Введите, сколько процентов от зарплаты уходит на ипотеку: ')\n",
    "    if(mortgage_percent.isdigit() and int(mortgage_percent) <= 100):\n",
    "        mortgage_percent = int(mortgage_percent)\n",
    "        life_percent = input('Введите, сколько процентов от зарплаты уходит на жизнь: ')\n",
    "        if(life_percent.isdigit() and 0 < int(life_percent) <= 100):\n",
    "            life_percent = int(life_percent)\n",
    "            if((life_percent + mortgage_percent) <= 100):\n",
    "                bonus_count = input('Введите количество премий за год: ')\n",
    "                if(bonus_count.isdigit()):\n",
    "                    mortgage_sum = salary*mortgage_percent/100*12\n",
    "                    rest_sum = salary*(100 - mortgage_percent - life_percent)/100*12 + salary*int(bonus_count)/2;\n",
    "                    print('На ипотеку было потрачено: ', mortgage_sum, ' руб. Было накоплено: ',rest_sum,' руб',sep='')\n",
    "                else:\n",
    "                    print('Количество премий должно быть числовым значением')\n",
    "            else:\n",
    "                print('Процент от зарплаты, уходящий на жизнь и ипотеку, должен быть положительным числом (но не больше 100%)')\n",
    "        else:\n",
    "            print('Процент от зарплаты, уходящий на жизнь, должен быть положительным числом (но не больше 100%)')\n",
    "    else:\n",
    "        print('Процент от зарплаты, уходящий на ипотеку, должен быть положительным числом (но не больше 100%)')\n",
    "else:\n",
    "    print('Заработная плата должна быть целым, положительным числом')"
   ]
  },
  {
   "cell_type": "code",
   "execution_count": null,
   "metadata": {},
   "outputs": [],
   "source": []
  }
 ],
 "metadata": {
  "kernelspec": {
   "display_name": "Python 3",
   "language": "python",
   "name": "python3"
  },
  "language_info": {
   "codemirror_mode": {
    "name": "ipython",
    "version": 3
   },
   "file_extension": ".py",
   "mimetype": "text/x-python",
   "name": "python",
   "nbconvert_exporter": "python",
   "pygments_lexer": "ipython3",
   "version": "3.7.4"
  }
 },
 "nbformat": 4,
 "nbformat_minor": 2
}
