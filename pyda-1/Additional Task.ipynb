{
 "cells": [
  {
   "cell_type": "code",
   "execution_count": null,
   "metadata": {},
   "outputs": [],
   "source": [
    "# Начинающий произносит число “1”, и каждый следующий игрок прибавляет к предыдущему значению единицу.\n",
    "# Когда число делится на три оно заменяется на fizz, если число делится на пять, то произносится buzz.\n",
    "# Числа, делящиеся на три и пять одновременно заменяются на fizz buzz.\n",
    "# Сделавший ошибку игрок исключается из игры.\n",
    "# \n",
    "# Напишите код, выводящий на экран первые n элементов этой игры (естественно, корректные).\n",
    "\n",
    "number_of_elements = input('Введите кол-во элементов: ')\n",
    "if(number_of_elements.isdigit() and int(number_of_elements) > 0):\n",
    "    num = 1\n",
    "    while num <= int(number_of_elements):\n",
    "        if num%3 == 0 and num%5 == 0:\n",
    "            print('fizz buzz')\n",
    "        elif num%3 == 0:\n",
    "            print('fizz')\n",
    "        elif num%5 == 0:\n",
    "            print('buzz')\n",
    "        else:\n",
    "            print(num)\n",
    "        num += 1\n",
    "else:\n",
    "    print('Введенное значение должно быть целым, положительным числом')"
   ]
  },
  {
   "cell_type": "code",
   "execution_count": null,
   "metadata": {},
   "outputs": [],
   "source": [
    "# Датчик принимает сигнал, состоящий из 0 и 1.\n",
    "# Известно, что сигнал имеет периодичность, не превышающей натурального числа n.\n",
    "# Напишите код, который вычисляет периодичность сигнала.\n",
    "# Считайте, что 3 < n < 1000, а общая длина сигнала значительно превышает n.\n",
    "\n",
    "signal = input('Введите сигнал, состоящий из 0 и 1: ')\n",
    "period = 0\n",
    "num_of_symbol = 3\n",
    "signal_length = len(signal)\n",
    "while num_of_symbol <= signal_length:\n",
    "    count_of_parts = signal_length/num_of_symbol\n",
    "    if count_of_parts.is_integer():\n",
    "        current_part = signal[:num_of_symbol]\n",
    "        if current_part*int(count_of_parts) == signal:\n",
    "            period = num_of_symbol\n",
    "            print('Периодичность сигнала:',period)\n",
    "            break\n",
    "    num_of_symbol += 1\n",
    "    \n",
    "if(not(period)):\n",
    "    print('Нет повторяющегося сигнала')"
   ]
  },
  {
   "cell_type": "code",
   "execution_count": null,
   "metadata": {},
   "outputs": [],
   "source": [
    "# Дано слово из латинских букв.\n",
    "# Напишите скрипт, который выводит на экран букву из середины слова (если число букв нечетное).\n",
    "# Если букв четное число, то на экран выводятся две буквы из середины.\n",
    "\n",
    "word = input('Введите слово из латинских букв: ')\n",
    "word_length = len(word)\n",
    "center_symbol = int(word_length/2)\n",
    "if(word_length%2 == 0):\n",
    "    print('Буквы из середины слова: ',word[center_symbol-1:center_symbol+1])\n",
    "else:\n",
    "    print('Буква из середины слова: ',word[center_symbol])"
   ]
  },
  {
   "cell_type": "code",
   "execution_count": null,
   "metadata": {},
   "outputs": [],
   "source": []
  }
 ],
 "metadata": {
  "kernelspec": {
   "display_name": "Python 3",
   "language": "python",
   "name": "python3"
  },
  "language_info": {
   "codemirror_mode": {
    "name": "ipython",
    "version": 3
   },
   "file_extension": ".py",
   "mimetype": "text/x-python",
   "name": "python",
   "nbconvert_exporter": "python",
   "pygments_lexer": "ipython3",
   "version": "3.7.4"
  }
 },
 "nbformat": 4,
 "nbformat_minor": 2
}
