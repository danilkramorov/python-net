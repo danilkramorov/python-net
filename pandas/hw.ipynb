{
 "cells": [
  {
   "cell_type": "code",
   "execution_count": 1,
   "metadata": {},
   "outputs": [],
   "source": [
    "import pandas as pd"
   ]
  },
  {
   "cell_type": "code",
   "execution_count": 42,
   "metadata": {},
   "outputs": [
    {
     "data": {
      "text/html": [
       "<div>\n",
       "<style scoped>\n",
       "    .dataframe tbody tr th:only-of-type {\n",
       "        vertical-align: middle;\n",
       "    }\n",
       "\n",
       "    .dataframe tbody tr th {\n",
       "        vertical-align: top;\n",
       "    }\n",
       "\n",
       "    .dataframe thead th {\n",
       "        text-align: right;\n",
       "    }\n",
       "</style>\n",
       "<table border=\"1\" class=\"dataframe\">\n",
       "  <thead>\n",
       "    <tr style=\"text-align: right;\">\n",
       "      <th></th>\n",
       "      <th>title</th>\n",
       "      <th>rating</th>\n",
       "    </tr>\n",
       "  </thead>\n",
       "  <tbody>\n",
       "    <tr>\n",
       "      <td>0</td>\n",
       "      <td>Shawshank Redemption, The (1994)</td>\n",
       "      <td>153</td>\n",
       "    </tr>\n",
       "  </tbody>\n",
       "</table>\n",
       "</div>"
      ],
      "text/plain": [
       "                              title  rating\n",
       "0  Shawshank Redemption, The (1994)     153"
      ]
     },
     "execution_count": 42,
     "metadata": {},
     "output_type": "execute_result"
    }
   ],
   "source": [
    "# Определите какому фильму было выставлено больше всего оценок 5.0.\n",
    "\n",
    "films = pd.read_csv(\"movies.csv\")\n",
    "ratings = pd.read_csv(\"ratings.csv\")\n",
    "\n",
    "sorted_rating = (\n",
    "ratings[['movieId','rating']][ratings.rating == 5]\n",
    " .groupby('movieId')\n",
    " .count()\n",
    " .sort_values('rating',ascending=False)\n",
    ")\n",
    "\n",
    "sorted_rating.merge(films,on='movieId',how='left')[['title','rating']].head(1)"
   ]
  },
  {
   "cell_type": "code",
   "execution_count": 68,
   "metadata": {},
   "outputs": [
    {
     "data": {
      "text/plain": [
       "240580.0"
      ]
     },
     "execution_count": 68,
     "metadata": {},
     "output_type": "execute_result"
    }
   ],
   "source": [
    "# По данным файла power.csv посчитайте суммарное потребление стран \n",
    "# Прибалтики (Латвия, Литва и Эстония) категорий 4, 12 и 21 за период с 2005 по 2010 года.\n",
    "# Не учитывайте в расчетах отрицательные значения quantity.\n",
    "    \n",
    "data = pd.read_csv(\"power.csv\")\n",
    "data['baltic'] = data.country.apply(lambda country: country in ['Lithuania','Latvia','Estonia'])\n",
    "data['in_year_range'] = data.year.apply(lambda year: (2005 <= year <= 2010))\n",
    "data['in_category_range'] = data.category.apply(lambda category: category in [4,12,21])\n",
    "\n",
    "data[\n",
    "    (data.quantity > 0) & \n",
    "    (data.baltic == True) & \n",
    "    (data.in_year_range == True) & \n",
    "    (data.in_category_range == True)\n",
    "].quantity.sum()    "
   ]
  },
  {
   "cell_type": "code",
   "execution_count": 72,
   "metadata": {},
   "outputs": [
    {
     "data": {
      "text/html": [
       "<div>\n",
       "<style scoped>\n",
       "    .dataframe tbody tr th:only-of-type {\n",
       "        vertical-align: middle;\n",
       "    }\n",
       "\n",
       "    .dataframe tbody tr th {\n",
       "        vertical-align: top;\n",
       "    }\n",
       "\n",
       "    .dataframe thead th {\n",
       "        text-align: right;\n",
       "    }\n",
       "</style>\n",
       "<table border=\"1\" class=\"dataframe\">\n",
       "  <thead>\n",
       "    <tr style=\"text-align: right;\">\n",
       "      <th></th>\n",
       "      <th>0</th>\n",
       "      <th>1</th>\n",
       "    </tr>\n",
       "  </thead>\n",
       "  <tbody>\n",
       "    <tr>\n",
       "      <td>0</td>\n",
       "      <td>Руководитель:</td>\n",
       "      <td>ГЕНЕРАЛЬНЫЙ ДИРЕКТОР Спиридонов Максим Юрьевич</td>\n",
       "    </tr>\n",
       "    <tr>\n",
       "      <td>1</td>\n",
       "      <td>ИНН / КПП:</td>\n",
       "      <td>7715964180 / 772601001</td>\n",
       "    </tr>\n",
       "    <tr>\n",
       "      <td>2</td>\n",
       "      <td>Уставной капитал:</td>\n",
       "      <td>60 млн. руб.</td>\n",
       "    </tr>\n",
       "    <tr>\n",
       "      <td>3</td>\n",
       "      <td>Численность персонала:</td>\n",
       "      <td>239</td>\n",
       "    </tr>\n",
       "    <tr>\n",
       "      <td>4</td>\n",
       "      <td>Количество учредителей:</td>\n",
       "      <td>1</td>\n",
       "    </tr>\n",
       "    <tr>\n",
       "      <td>5</td>\n",
       "      <td>Дата регистрации:</td>\n",
       "      <td>23.05.2013</td>\n",
       "    </tr>\n",
       "    <tr>\n",
       "      <td>6</td>\n",
       "      <td>Статус:</td>\n",
       "      <td>Действующее</td>\n",
       "    </tr>\n",
       "  </tbody>\n",
       "</table>\n",
       "</div>"
      ],
      "text/plain": [
       "                         0                                               1\n",
       "0            Руководитель:  ГЕНЕРАЛЬНЫЙ ДИРЕКТОР Спиридонов Максим Юрьевич\n",
       "1               ИНН / КПП:                          7715964180 / 772601001\n",
       "2        Уставной капитал:                                    60 млн. руб.\n",
       "3   Численность персонала:                                             239\n",
       "4  Количество учредителей:                                               1\n",
       "5        Дата регистрации:                                      23.05.2013\n",
       "6                  Статус:                                     Действующее"
      ]
     },
     "execution_count": 72,
     "metadata": {},
     "output_type": "execute_result"
    }
   ],
   "source": [
    "# Выберите страницу любого сайта с табличными данными. Импортируйте таблицы в pandas dataframe.\n",
    "\n",
    "table = pd.read_html(\"https://www.list-org.com/company/7499427\")\n",
    "table[0]"
   ]
  },
  {
   "cell_type": "code",
   "execution_count": null,
   "metadata": {},
   "outputs": [],
   "source": []
  }
 ],
 "metadata": {
  "kernelspec": {
   "display_name": "Python 3",
   "language": "python",
   "name": "python3"
  },
  "language_info": {
   "codemirror_mode": {
    "name": "ipython",
    "version": 3
   },
   "file_extension": ".py",
   "mimetype": "text/x-python",
   "name": "python",
   "nbconvert_exporter": "python",
   "pygments_lexer": "ipython3",
   "version": "3.7.4"
  }
 },
 "nbformat": 4,
 "nbformat_minor": 2
}
