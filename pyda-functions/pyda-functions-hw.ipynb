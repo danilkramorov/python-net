{
 "cells": [
  {
   "cell_type": "markdown",
   "metadata": {},
   "source": [
    "## Задание 1"
   ]
  },
  {
   "cell_type": "markdown",
   "metadata": {},
   "source": [
    "Дан список вида:"
   ]
  },
  {
   "cell_type": "code",
   "execution_count": null,
   "metadata": {},
   "outputs": [],
   "source": [
    "data = [\n",
    "    [13, 25, 23, 34],\n",
    "    [45, 32, 44, 47],\n",
    "    [12, 33, 23, 95],\n",
    "    [13, 53, 34, 35]\n",
    "]"
   ]
  },
  {
   "cell_type": "markdown",
   "metadata": {},
   "source": [
    "Напишите функцию, которая возвращает сумму элементов на диагонали. Т. е. 13+32+23+35.  \n",
    "Список может быть любой длины, но всегда является \"квадратным\" (количество элементов во вложенных списках равно их количеству)."
   ]
  },
  {
   "cell_type": "code",
   "execution_count": null,
   "metadata": {},
   "outputs": [],
   "source": [
    "def diagonal_sum(data):\n",
    "    sum = 0\n",
    "    for i in range(0,len(data)):\n",
    "        sum += int(data[i][i])\n",
    "    return sum\n",
    "\n",
    "diagonal_sum(data)"
   ]
  },
  {
   "cell_type": "markdown",
   "metadata": {},
   "source": [
    "## Задание 2"
   ]
  },
  {
   "cell_type": "markdown",
   "metadata": {},
   "source": [
    "Напишите функцию, возвращающую сумму первых n чисел Фибоначчи (для этого вам может понадобится ознакомиться с рекурсией)."
   ]
  },
  {
   "cell_type": "code",
   "execution_count": null,
   "metadata": {},
   "outputs": [],
   "source": [
    "def fibonacci_number(n):\n",
    "    if(n == 0):\n",
    "        return 0\n",
    "    elif(n == 1):\n",
    "        return 1\n",
    "    else:\n",
    "        return fibonacci_number(n - 1) + fibonacci_number(n - 2)\n",
    "\n",
    "def fibonacci_numbers_sum():\n",
    "    n = int(input('Введите количество чисел Фибоначчи для суммирования: '))\n",
    "    sum = 0\n",
    "    for i in range(0,n):\n",
    "        sum += fibonacci_number(i);\n",
    "    return sum\n",
    "    \n",
    "fibonacci_numbers_sum()"
   ]
  },
  {
   "cell_type": "markdown",
   "metadata": {},
   "source": [
    "## Задание 3\n"
   ]
  },
  {
   "cell_type": "markdown",
   "metadata": {},
   "source": [
    "Напишите функцию, преобразующую произвольный список вида ['2018-01-01', 'yandex', 'cpc', 100] (он может быть любой длины) в словарь {'2018-01-01': {'yandex': {'cpc': 100}}}"
   ]
  },
  {
   "cell_type": "code",
   "execution_count": null,
   "metadata": {},
   "outputs": [],
   "source": [
    "list = ['2018-01-01', 'yandex', 'cpc', 100]\n",
    "def list_transform(list):\n",
    "    for i in reversed(range(1,len(list))):\n",
    "        result_dict = dict()\n",
    "\n",
    "        if(i == len(list) - 1):\n",
    "            result_dict[list[i - 1]] = list[i]\n",
    "        else:\n",
    "            result_dict[list[i - 1]] = inner_part\n",
    "\n",
    "        inner_part = result_dict\n",
    "    \n",
    "    return result_dict\n",
    "\n",
    "list_transform(list)"
   ]
  },
  {
   "cell_type": "code",
   "execution_count": null,
   "metadata": {},
   "outputs": [],
   "source": []
  },
  {
   "cell_type": "markdown",
   "metadata": {},
   "source": [
    "## Задание 4"
   ]
  },
  {
   "cell_type": "markdown",
   "metadata": {},
   "source": [
    "Вы работаете секретарем и вам постоянно приходят различные документы. Вы должны быть очень внимательны, чтобы не потерять ни один документ. Каталог документов хранится в следующем виде:"
   ]
  },
  {
   "cell_type": "code",
   "execution_count": null,
   "metadata": {},
   "outputs": [],
   "source": [
    "documents = [\n",
    "    {'type': 'passport', 'number': '2207 876234', 'name': 'Василий Гупкин'},\n",
    "    {'type': 'invoice', 'number': '11-2', 'name': 'Геннадий Покемонов'},\n",
    "    {'type': 'insurance', 'number': '10006', 'name': 'Аристарх Павлов'}\n",
    "]"
   ]
  },
  {
   "cell_type": "markdown",
   "metadata": {},
   "source": [
    "Перечень полок, на которых находятся документы хранится в следующем виде:"
   ]
  },
  {
   "cell_type": "code",
   "execution_count": null,
   "metadata": {},
   "outputs": [],
   "source": [
    "directories = {\n",
    "    '1': ['2207 876234', '11-2', '5455 028765'],\n",
    "    '2': ['10006', '5400 028765', '5455 002299'],\n",
    "    '3': []\n",
    "}"
   ]
  },
  {
   "cell_type": "markdown",
   "metadata": {},
   "source": [
    "Необходимо реализовать пользовательские команды (внимание! это не название функций, которые должны быть выразительными, а команды, которые вводит пользователь, чтобы получить необходимый результат):\n",
    "  \n",
    "- p – people – команда, которая спросит номер документа и выведет имя человека, которому он принадлежит;  \n",
    "- s – shelf – команда, которая спросит номер документа и выведет номер полки, на которой он находится  \n",
    "Правильно обработайте ситуацию, когда пользователь будет вводить несуществующий документ.\n",
    "- l – list – команда, которая выведет список всех документов в формате   \n",
    "**passport \"2207 876234\" \"Василий Гупкин\"**  \n",
    "- as – add shelf – команда, которая спросит номер новой полки и добавит ее в перечень\n",
    "- d – delete – команда, которая спросит номер документа и удалит его из каталога и из перечня полок. Предусмотрите сценарий, когда пользователь вводит несуществующий документ;  \n",
    "- m – move – команда, которая спросит номер документа и целевую полку и переместит его с текущей полки на целевую. Корректно обработайте кейсы, когда пользователь пытается переместить несуществующий документ или переместить документ на несуществующую полку;  \n",
    "- a – add – команда, которая добавит новый документ в каталог и в перечень полок, спросив его номер, тип, имя владельца и номер полки, на котором он будет храниться."
   ]
  },
  {
   "cell_type": "code",
   "execution_count": null,
   "metadata": {},
   "outputs": [],
   "source": [
    "def main():\n",
    "    command = input('Введите команду: ')\n",
    "    while not check_command(command):\n",
    "        command = input('Введенной команды не существует, попробуйте ещё раз, либо введите q для выхода: ')\n",
    "    \n",
    "    execute_command(command)\n",
    "\n",
    "def execute_command(command):\n",
    "    if command == 'p':\n",
    "        print(get_document_owner())\n",
    "    elif command == 's':\n",
    "        print(get_document_directory())\n",
    "    elif command == 'l':\n",
    "        get_documents_list()\n",
    "    elif command == 'as':\n",
    "        print(add_new_directory())\n",
    "    elif command == 'd':\n",
    "        print(delete_document())\n",
    "    elif command == 'm':\n",
    "        print(move_document())\n",
    "    elif command == 'a':\n",
    "        print(add_new_document())\n",
    "    \n",
    "    if(command != 'q'):\n",
    "        main()\n",
    "    \n",
    "def check_command(command):\n",
    "    return command in ('p','s','l','as','d','m','a','q')\n",
    "    \n",
    "def get_document_owner():\n",
    "    document_number = input('Введите номер документа: ')\n",
    "    for document in documents:\n",
    "        if document['number'] == str(document_number):\n",
    "            return 'Документ принадлежит человеку с именем: ' + document['name']\n",
    "    \n",
    "    return 'В базе отсутствует человек с данным номером документа'\n",
    "\n",
    "def get_document_directory():\n",
    "    document_number = input('Введите номер документа: ')\n",
    "    for directory_num,directory_documents in directories.items():\n",
    "        if document_number in directory_documents:\n",
    "            return 'Документ находится на полке: ' + directory_num\n",
    "    \n",
    "    return 'На полках отсутствует человек с данным номером документа'\n",
    "\n",
    "def get_documents_list():\n",
    "    for document in documents:\n",
    "        print(document['type'] + ' \"' + document['number'] + '\" \"' + document['name'] + '\"')\n",
    "\n",
    "def add_new_directory():\n",
    "    directory_number = str(input('Введите номер новой полки: '))\n",
    "    if(directory_number in directories.keys()):\n",
    "        return 'Полка с данным номером уже существует'\n",
    "    \n",
    "    directories[directory_number] = []\n",
    "    return 'Новая полка удачно создана'\n",
    "\n",
    "def delete_document():\n",
    "    document_number = str(input('Введите номер документа: '))\n",
    "    for document in documents:\n",
    "        if document['number'] == document_number:\n",
    "            documents.remove(document)\n",
    "            delete_document_from_directory(document_number)\n",
    "            return 'Документ удачно удален!'\n",
    "    \n",
    "    return 'В базе отсутствует документ с таким номером'\n",
    "\n",
    "def delete_document_from_directory(document_number):\n",
    "    for directory_num,directory_documents in directories.items():\n",
    "        if document_number in directory_documents:\n",
    "            directories[directory_num].remove(document_number)\n",
    "\n",
    "def get_all_documents_in_directories():\n",
    "    all_documents_in_directories = []\n",
    "    for docs in directories.values():\n",
    "        all_documents_in_directories += docs\n",
    "        \n",
    "    return all_documents_in_directories\n",
    "            \n",
    "def move_document():\n",
    "    document_number = str(input('Введите номер документа: '))\n",
    "        \n",
    "    while(document_number not in get_all_documents_in_directories()):\n",
    "        document_number = str(input('На полках нет документа с таким номером, попробуйте ещё раз, либо введите q для выхода: '))\n",
    "        if(document_number == 'q'):\n",
    "            return 'Операция была прервана'\n",
    "        \n",
    "    directory_number = str(input('Введите номер полки, на которую нужно переместить документ: '))\n",
    "    \n",
    "    while(directory_number not in directories.keys()):\n",
    "        directory_number = str(input('Такой полки не существует, попробуйте ещё раз, либо введите q для выхода: '))\n",
    "        if(directory_number == 'q'):\n",
    "            return 'Операция была прервана'\n",
    "        \n",
    "    delete_document_from_directory(document_number)\n",
    "    directories[directory_number].append(document_number)\n",
    "    \n",
    "    return 'Документ перемещен на новую полку'\n",
    "\n",
    "def add_new_document():\n",
    "    document_number = str(input('Введите номер нового документа: '))\n",
    "\n",
    "    while(document_number == ''):\n",
    "        document_number = str(input('Введите номер нового документа, поле обязательное для заполнения: '))\n",
    "    \n",
    "    while(document_number in get_all_documents_in_directories()):\n",
    "        document_number = str(input('Документ с таким номером уже существует, попробуйте ещё раз, либо введите q для выхода: '))\n",
    "        if(document_number == 'q'):\n",
    "            return 'Операция была прервана'\n",
    "    \n",
    "    document_type = str(input('Введите тип нового документа: '))\n",
    "    \n",
    "    while(document_type == ''):\n",
    "        document_type = str(input('Введите тип нового документа, поле обязательное для заполнения: '))\n",
    "        \n",
    "    document_owner = str(input('Введите имя владельца нового документа: '))\n",
    "\n",
    "    while(document_owner == ''):\n",
    "        document_owner = str(input('Введите имя владельца нового документа, поле обязательное для заполнения: '))\n",
    "    \n",
    "    directory_number = str(input('Введите номер полки, на которую нужно положить документ: '))\n",
    "    \n",
    "    while(directory_number not in directories.keys()):\n",
    "        directory_number = str(input('Такой полки не существует, попробуйте ещё раз, либо введите q для выхода: '))\n",
    "        if(directory_number == 'q'):\n",
    "            return 'Операция была прервана'\n",
    "    \n",
    "    new_document = dict()\n",
    "    new_document['type'] = document_type\n",
    "    new_document['number'] = document_number\n",
    "    new_document['name'] = document_owner\n",
    "    \n",
    "    documents.append(new_document)\n",
    "    directories[directory_number].append(document_number)\n",
    "    return 'Новый документ добавлен'\n",
    "    \n",
    "main()\n"
   ]
  },
  {
   "cell_type": "code",
   "execution_count": null,
   "metadata": {},
   "outputs": [],
   "source": []
  },
  {
   "cell_type": "code",
   "execution_count": null,
   "metadata": {},
   "outputs": [],
   "source": []
  }
 ],
 "metadata": {
  "kernelspec": {
   "display_name": "Python 3",
   "language": "python",
   "name": "python3"
  },
  "language_info": {
   "codemirror_mode": {
    "name": "ipython",
    "version": 3
   },
   "file_extension": ".py",
   "mimetype": "text/x-python",
   "name": "python",
   "nbconvert_exporter": "python",
   "pygments_lexer": "ipython3",
   "version": "3.7.4"
  }
 },
 "nbformat": 4,
 "nbformat_minor": 2
}
