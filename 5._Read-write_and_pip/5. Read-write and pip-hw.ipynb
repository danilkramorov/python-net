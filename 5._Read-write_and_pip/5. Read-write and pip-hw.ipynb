{
 "cells": [
  {
   "cell_type": "markdown",
   "metadata": {},
   "source": [
    "# Домашнее задание\n",
    "1. Переведите содержимое файла purchase_log.txt в словарь purchases вида:\n",
    "```python\n",
    "{'1840e0b9d4': 'Продукты', ...}\n",
    "```\n",
    "\n",
    "2. Для каждого user_id в файле visit_log.csv добавьте третий столбец с категорией покупки (если покупка была).\n",
    "\n",
    "3. Запишите в файл funnel.csv визиты из файла visit_log.csv, в которых были покупки с указанием категории.\n",
    "\n",
    "Учтите условия на данные:\n",
    "- содержимое purchase_log.txt помещается в оперативную память компьютера\n",
    "- содержимое visit_log.csv - нет; используйте только построчную обработку этого файла"
   ]
  },
  {
   "cell_type": "code",
   "execution_count": null,
   "metadata": {},
   "outputs": [],
   "source": [
    "import json\n",
    "import os\n",
    "\n",
    "def add_str_to_dict(str_,dict_):\n",
    "    str_to_dict = json.loads(str_)\n",
    "    dict_[str_to_dict['user_id']] = str_to_dict['category']\n",
    "    \n",
    "def create_dict_from_file(file):\n",
    "    purchases = dict()\n",
    "    with open(file, 'r') as f:\n",
    "        next(f)\n",
    "        lines = f.readlines()\n",
    "    for line in lines:\n",
    "        add_str_to_dict(line,purchases)\n",
    "    return purchases\n",
    "\n",
    "def add_additional_data_to_file(file,source_dict):\n",
    "    with open(file, 'r') as f:\n",
    "        line = f.readline()\n",
    "        print('Добавление новой информации в файл началось')\n",
    "        while line:\n",
    "            str_to_list = line.strip().split(',')\n",
    "            if str_to_list[0] in source_dict.keys():\n",
    "                str_to_list.append(source_dict[str_to_list[0]])\n",
    "            with open('tmp.csv', 'a') as tmp_f:\n",
    "                tmp_f.write(','.join(str_to_list) + '\\n')\n",
    "            line = f.readline()\n",
    "        os.remove(file)\n",
    "        os.rename(r'tmp.csv',r'' + file)\n",
    "        print('Запись закончена')\n",
    "\n",
    "## можно и в прошлой функции, чтобы не дублировать код, но вынесу в отдельную\n",
    "def write_out_visits_with_category(source_file,destination_file):\n",
    "    with open(source_file, 'r') as f:\n",
    "        line = f.readline()\n",
    "        print('Запись нового файла началась')\n",
    "        while line:\n",
    "            str_to_list = line.strip().split(',')\n",
    "            if len(str_to_list) == 3:\n",
    "                with open(destination_file, 'a') as new_f:\n",
    "                    new_f.write(','.join(str_to_list) + '\\n')\n",
    "            line = f.readline()\n",
    "        print('Запись закончена')\n",
    "        \n",
    "purchases = create_dict_from_file('purchase_log.txt')\n",
    "add_additional_data_to_file('visit_log.csv',purchases)\n",
    "write_out_visits_with_category('visit_log.csv','funnel.csv')\n",
    "print('Конец программы')"
   ]
  },
  {
   "cell_type": "code",
   "execution_count": null,
   "metadata": {},
   "outputs": [],
   "source": []
  },
  {
   "cell_type": "code",
   "execution_count": null,
   "metadata": {},
   "outputs": [],
   "source": []
  }
 ],
 "metadata": {
  "kernelspec": {
   "display_name": "Python 3",
   "language": "python",
   "name": "python3"
  },
  "language_info": {
   "codemirror_mode": {
    "name": "ipython",
    "version": 3
   },
   "file_extension": ".py",
   "mimetype": "text/x-python",
   "name": "python",
   "nbconvert_exporter": "python",
   "pygments_lexer": "ipython3",
   "version": "3.7.4"
  }
 },
 "nbformat": 4,
 "nbformat_minor": 2
}
